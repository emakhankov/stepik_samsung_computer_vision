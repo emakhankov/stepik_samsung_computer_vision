{
  "nbformat": 4,
  "nbformat_minor": 0,
  "metadata": {
    "colab": {
      "name": "stepik_samsung_computer_vision_version_3.ipynb",
      "provenance": [],
      "include_colab_link": true
    },
    "kernelspec": {
      "name": "python3",
      "display_name": "Python 3"
    }
  },
  "cells": [
    {
      "cell_type": "markdown",
      "metadata": {
        "id": "view-in-github",
        "colab_type": "text"
      },
      "source": [
        "<a href=\"https://colab.research.google.com/github/emakhankov/stepik_samsung_computer_vision/blob/master/stepik_samsung_computer_vision_version_3.ipynb\" target=\"_parent\"><img src=\"https://colab.research.google.com/assets/colab-badge.svg\" alt=\"Open In Colab\"/></a>"
      ]
    },
    {
      "cell_type": "code",
      "metadata": {
        "id": "1JsaMspE8T42",
        "colab_type": "code",
        "colab": {}
      },
      "source": [
        "# By Evgeny Makhankov"
      ],
      "execution_count": 0,
      "outputs": []
    },
    {
      "cell_type": "code",
      "metadata": {
        "id": "Ll4KwdIR87wH",
        "colab_type": "code",
        "colab": {}
      },
      "source": [
        "# Гипотеза что сеть разпознающее флюораграфические снимки, возможно будет хорошо справляться с обнаружением грязной посуды\n",
        "\n",
        "# Примеры сети\n",
        "# https://www.kaggle.com/curiousprogrammer/chest-x-ray-image-classification-tf-hub-resnet50\n",
        "# https://www.kaggle.com/curiousprogrammer/chest-x-ray-keras-vgg19-transfer-learning"
      ],
      "execution_count": 0,
      "outputs": []
    },
    {
      "cell_type": "code",
      "metadata": {
        "id": "faUZvmRZ9W30",
        "colab_type": "code",
        "colab": {}
      },
      "source": [
        "# Инсталлируем tensorflow, т.к. в нем есть предобученная моделль ResNet50V2\n",
        "pip install tensorflow==2.0"
      ],
      "execution_count": 0,
      "outputs": []
    },
    {
      "cell_type": "code",
      "metadata": {
        "id": "xQDFE9Sr9wKT",
        "colab_type": "code",
        "colab": {}
      },
      "source": [
        "import tensorflow as tf\n",
        "print(tf.__version__)"
      ],
      "execution_count": 0,
      "outputs": []
    },
    {
      "cell_type": "code",
      "metadata": {
        "id": "o3ft2Nqq922r",
        "colab_type": "code",
        "colab": {}
      },
      "source": [
        "import numpy as np # linear algebra\n",
        "import pandas as pd # data processing, CSV file I/O (e.g. pd.read_csv)\n",
        "\n",
        "import os # Работа с файлами\n",
        "import gc # Сбоока мусора, т.к. без принудительной сборки колаб вылетал\n",
        "\n",
        "#File Operation libraries\n",
        "import glob\n",
        "from pathlib import Path\n",
        "\n",
        "#Visualisation Libraries\n",
        "import matplotlib.pyplot as plt\n",
        "import seaborn as sns\n",
        "from mlxtend.plotting import plot_confusion_matrix\n",
        "\n",
        "#Image Transformation Libraries\n",
        "import cv2\n",
        "from imgaug import augmenters as iaa # Пакет по аугментации"
      ],
      "execution_count": 0,
      "outputs": []
    },
    {
      "cell_type": "code",
      "metadata": {
        "id": "ejttyjdP-b56",
        "colab_type": "code",
        "colab": {}
      },
      "source": [
        ""
      ],
      "execution_count": 0,
      "outputs": []
    },
    {
      "cell_type": "code",
      "metadata": {
        "id": "MjS8bdfD-LQS",
        "colab_type": "code",
        "colab": {}
      },
      "source": [
        "from google.colab import files\n",
        "files.upload()"
      ],
      "execution_count": 0,
      "outputs": []
    },
    {
      "cell_type": "code",
      "metadata": {
        "id": "mcZDVXa--fGK",
        "colab_type": "code",
        "colab": {}
      },
      "source": [
        "!mkdir -p ~/.kaggle\n",
        "!cp kaggle.json ~/.kaggle/"
      ],
      "execution_count": 0,
      "outputs": []
    },
    {
      "cell_type": "code",
      "metadata": {
        "id": "shP79eEl-hcS",
        "colab_type": "code",
        "colab": {}
      },
      "source": [
        "!kaggle competitions download -c platesv2"
      ],
      "execution_count": 0,
      "outputs": []
    },
    {
      "cell_type": "code",
      "metadata": {
        "id": "NjrpLp1Q-lrr",
        "colab_type": "code",
        "colab": {}
      },
      "source": [
        "!unzip plates.zip"
      ],
      "execution_count": 0,
      "outputs": []
    },
    {
      "cell_type": "code",
      "metadata": {
        "id": "UKsN8-rC-bSC",
        "colab_type": "code",
        "colab": {}
      },
      "source": [
        "base_dir = \"plates/\"\n",
        "train_dir = base_dir+'train/'\n",
        "test_dir = base_dir+'test/'\n",
        "val_dir = base_dir+'val/'"
      ],
      "execution_count": 0,
      "outputs": []
    },
    {
      "cell_type": "code",
      "metadata": {
        "id": "lUuHYywV-u1i",
        "colab_type": "code",
        "colab": {}
      },
      "source": [
        "#Разбивка данных на train и val datasets\n",
        "#Изначально для сети ResNet50V2 хороший результат (0.87) был получен при i % 6, потом доучивая сеть с увеличением train и даже с полной отказом от val - выше результата не дало.\n",
        "#Последная сеть ResNet50V2 + Inception уже валидировалась по аугментированной обучающей выборке\n",
        "\n",
        "def get_df(path,shuffle = True,validation = False):\n",
        "    lst = []\n",
        "    cleaned_dir = Path(path + \"cleaned\")\n",
        "    dirty_dir = Path(path + \"dirty\")\n",
        "    cleaned_data = cleaned_dir.glob(\"*.jpg\")\n",
        "    dirty_data = dirty_dir.glob(\"*.jpg\")\n",
        "    \n",
        "    i = 0;\n",
        "    for fname in cleaned_data:\n",
        "      i += 1;\n",
        "      #if (validation == True) and (i % 12 == 0) or (validation == False) and (i % 12 != 0) :\n",
        "      if True: #Валидировать будем по аугментированным данным\n",
        "          lst.append((fname, 0))\n",
        "    i = 0;\n",
        "    for fname in dirty_data:\n",
        "      i += 1;\n",
        "      if True: \n",
        "      #if (validation == True) and (i % 12 == 0) or (validation == False) and (i % 12 != 0) :\n",
        "        lst.append((fname, 1))\n",
        "    df = pd.DataFrame(lst, columns=['Image', 'Label'], index=None)\n",
        "    s = np.arange(df.shape[0])\n",
        "    if shuffle:\n",
        "      np.random.shuffle(s)\n",
        "    df = df.iloc[s,:].reset_index(drop=True)\n",
        "    return df"
      ],
      "execution_count": 0,
      "outputs": []
    },
    {
      "cell_type": "code",
      "metadata": {
        "id": "lRMnFiYNAVE1",
        "colab_type": "code",
        "colab": {}
      },
      "source": [
        "df_train = get_df(train_dir)\n",
        "df_train = pd.concat([df_train,df_train,df_train])  # Увеличим обучающую выборку в 3 раза, потом добросить проблемные элементы, чтобы они в общей массе были не столь значимы\n",
        "df_val = get_df(train_dir,False,True)"
      ],
      "execution_count": 0,
      "outputs": []
    },
    {
      "cell_type": "code",
      "metadata": {
        "id": "PLMEd4amAzGp",
        "colab_type": "code",
        "colab": {}
      },
      "source": [
        "# ResNet50V2 + Inception добавляление 3-х картинк - металлическая кастюля с затемненным дном. (часто определяется как грязная, причем глазами тяжело было понять это прилипшее кофе или тень)\n",
        "lst = []\n",
        "lst.append((Path(\"plates/test/0370.jpg\"), 0))\n",
        "lst.append((Path(\"plates/test/0178.jpg\"), 0))\n",
        "lst.append((Path(\"plates/test/0701.jpg\"), 0))\n",
        "df = pd.DataFrame(lst, columns=['Image', 'Label'], index=None)\n",
        "df = df.reset_index(drop=True)\n",
        "df_train = pd.concat([df_train,df])"
      ],
      "execution_count": 0,
      "outputs": []
    }
  ]
}